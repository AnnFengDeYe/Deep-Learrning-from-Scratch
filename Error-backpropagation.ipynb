{
 "cells": [
  {
   "cell_type": "markdown",
   "id": "74552a35-548e-427e-9492-5598db7db49b",
   "metadata": {},
   "source": [
    "# 误差反向传播法\n",
    "\n",
    "计算图（Computation Graph） 是深度学习中的一个重要概念，用于表示计算过程。它是一个有向无环图（Directed Acyclic Graph, DAG），其中每个节点表示一个操作或变量，每条边表示操作之间的依赖关系。\n",
    "\n",
    "<span style=\"color: red;\">**计算图的组成**</span>\n",
    "1. 节点（Nodes）：\n",
    "* 变量节点：表示输入数据、权重、偏置等变量。\n",
    "* 操作节点：表示数学运算（如加法、乘法、激活函数等）。\n",
    "\n",
    "2. 边（Edges）：\n",
    "* 表示数据在节点之间的流动和依赖关系。"
   ]
  },
  {
   "cell_type": "code",
   "execution_count": null,
   "id": "ccf251dd-17a2-4f08-87f9-b46eec8902e8",
   "metadata": {},
   "outputs": [],
   "source": []
  }
 ],
 "metadata": {
  "kernelspec": {
   "display_name": "Python 3 (ipykernel)",
   "language": "python",
   "name": "python3"
  },
  "language_info": {
   "codemirror_mode": {
    "name": "ipython",
    "version": 3
   },
   "file_extension": ".py",
   "mimetype": "text/x-python",
   "name": "python",
   "nbconvert_exporter": "python",
   "pygments_lexer": "ipython3",
   "version": "3.12.7"
  }
 },
 "nbformat": 4,
 "nbformat_minor": 5
}
